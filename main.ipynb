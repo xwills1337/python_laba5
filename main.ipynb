{
 "cells": [
  {
   "cell_type": "code",
   "execution_count": null,
   "metadata": {},
   "outputs": [],
   "source": [
    "import io\n",
    "import torch\n",
    "import torch.nn as nn\n",
    "import pandas as pd\n",
    "import numpy as np\n",
    "import matplotlib.pyplot as plt\n",
    "from datetime import datetime\n",
    "\n",
    "device = \"cpu\""
   ]
  },
  {
   "cell_type": "code",
   "execution_count": null,
   "metadata": {},
   "outputs": [],
   "source": [
    "df = pd.read_csv(\"dataset.csv\")\n",
    "\n",
    "df.columns = ['Datatime', 'temp_day', 'wind', 'pressure_day', 'temp_even', 'pressure_even']  \n",
    "df = df.drop(columns = ['wind', 'pressure_day', 'temp_even', 'pressure_even'])\n",
    "\n",
    "nan_value = float(\"NaN\")\n",
    "df.replace(\" \", nan_value, inplace=True)\n",
    "df = df.dropna()\n",
    "\n",
    "df[['temp_day']] = df[['temp_day']].astype(int) \n",
    "df_save = df\n",
    "print(df)"
   ]
  },
  {
   "cell_type": "code",
   "execution_count": null,
   "metadata": {},
   "outputs": [],
   "source": [
    "import matplotlib.pyplot as plt\n",
    "fig1 = plt.figure(figsize=(10, 5))\n",
    "plt.title(\"Temperature graph in Celsius\")\n",
    "plt.xlabel(\"Day\")\n",
    "plt.ylabel(\"Temp\")\n",
    "plt.plot(df['temp_day'], color=\"green\")\n",
    "plt.legend([\"Temp in day\"])\n",
    "plt.show()"
   ]
  },
  {
   "cell_type": "code",
   "execution_count": null,
   "metadata": {},
   "outputs": [],
   "source": [
    "def generate_time_lags(df: pd.DataFrame, n_lags: int):\n",
    "    \"\"\"the function of generating observations with a time delay\"\"\"\n",
    "    df_n = df.copy()\n",
    "    for n in range(1, n_lags + 1):\n",
    "        df_n[f\"lag{n}\"] = df_n[\"value\"].shift(n)\n",
    "    df_n = df_n.iloc[n_lags:]\n",
    "    return df_n\n",
    "\n",
    "input_dim = 100\n",
    "\n",
    "df_timelags = generate_time_lags(df, input_dim)\n",
    "print(df_timelags)"
   ]
  },
  {
   "cell_type": "code",
   "execution_count": null,
   "metadata": {},
   "outputs": [],
   "source": [
    "import sklearn\n",
    "from sklearn.model_selection import train_test_split\n",
    "\n",
    "def feature_label_split(df: pd.DataFrame, target_col: str):\n",
    "    \"\"\"separtion into x and y\"\"\"\n",
    "    y = df[[target_col]]\n",
    "    X = df.drop(columns=[target_col])\n",
    "    return X, y\n",
    "\n",
    "def train_val_test_split(df: pd.DataFrame, target_col: str, test_ratio: float) -> pd.DataFrame:\n",
    "    \"\"\"separtion into test, val, test\"\"\"\n",
    "\n",
    "    val_ratio = test_ratio / (1 - test_ratio)\n",
    "\n",
    "    X, y = feature_label_split(df, target_col)\n",
    "\n",
    "    X_train, X_test, y_train, y_test = train_test_split(X, y, test_size=test_ratio, shuffle=False)\n",
    "    X_train, X_val, y_train, y_val = train_test_split(X_train, y_train, test_size=val_ratio, shuffle=False)  \n",
    "\n",
    "    return X_train, X_val, X_test, y_train, y_val, y_test\n",
    "\n",
    "X_train, X_val, X_test, y_train, y_val, y_test = train_val_test_split(df_timelags, 'value', 0.1)\n",
    "\n",
    "print(f'Процент обучащей выборки: {X_train[\"lag1\"].count() / df_timelags[\"lag1\"].count()*100}%')\n",
    "print(f'Процент тестовой выборки: {X_test[\"lag1\"].count() / df_timelags[\"lag1\"].count()*100}%')\n",
    "print(f'Процент валидационной выборки: {X_val[\"lag1\"].count() / df_timelags[\"lag1\"].count()*100}%')"
   ]
  }
 ],
 "metadata": {
  "kernelspec": {
   "display_name": "venv",
   "language": "python",
   "name": "python3"
  },
  "language_info": {
   "name": "python",
   "version": "3.11.1 (tags/v3.11.1:a7a450f, Dec  6 2022, 19:58:39) [MSC v.1934 64 bit (AMD64)]"
  },
  "orig_nbformat": 4,
  "vscode": {
   "interpreter": {
    "hash": "90dccde7fa88626667c2c5661528e62af9bc7fcc5322553539e8646401baa1a7"
   }
  }
 },
 "nbformat": 4,
 "nbformat_minor": 2
}
